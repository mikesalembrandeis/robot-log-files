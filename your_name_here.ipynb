{
 "cells": [
  {
   "cell_type": "markdown",
   "metadata": {},
   "source": [
    "# Assignment 3\n",
    "----\n",
    "\n",
    "Name : `<Your name here>`\n",
    "    \n",
    "email :  `<Your email here> `"
   ]
  },
  {
   "cell_type": "markdown",
   "metadata": {},
   "source": [
    "# Instructions\n",
    "----\n",
    "\n",
    "The purpose of this assignment is to teach students how to load, extract, and transform (ETL) data and build visualizations with this information. This project will utilize NLP library NLTK as well as some visualization tools. \n",
    "\n",
    "You are **not** allowed to rename any functions or modify the number of input parameters. **Failure to follow instructions will result in a 0 for the question.**\n",
    "\n",
    "### Any scratch work (testing, debugging, etc.) can be done at the bottom under the `Scratch` section or in other files. "
   ]
  },
  {
   "cell_type": "markdown",
   "metadata": {},
   "source": [
    "# Rubric\n",
    "----\n",
    "\n",
    "Every step is worth 1 point. If the solution produced is correct, the student will receive 1 point. If the solution is incorrect, the student will receive 0\n",
    "\n",
    "### Please keep your code and the expeccted output next to each other. If the two cells are **not** adjacent, you will receive a 0 for the question being asked. "
   ]
  },
  {
   "cell_type": "code",
   "execution_count": null,
   "metadata": {},
   "outputs": [],
   "source": [
    "# Note: You do NOT need to add any packages. Everything you need is already installed in this notebook. Modifying these imports will result in a 0. \n",
    "import pandas as pd\n",
    "import numpy as np\n",
    "import os\n",
    "import seaborn as sns\n",
    "import plotly.express as px"
   ]
  },
  {
   "cell_type": "code",
   "execution_count": null,
   "metadata": {},
   "outputs": [],
   "source": [
    "# Make sure to run this cell. The ! runs a terminal command and grabs the dataset we are using (CARESSES Interaction Logs)\n",
    "# Source: Menicatti, Roberto, Recchiuto, Carmine Tommaso, Bruno, Barbara, & Sgorbissa, Antonio. (2020). CARESSES Interaction Logs (Version v1.0) [Data set]. Zenodo. http://doi.org/10.5281/zenodo.3610469\n",
    "!wget https://zenodo.org/record/3610469/files/laboratoriumDIBRIS/caresses-interaction-logs-v1.0.zip"
   ]
  },
  {
   "cell_type": "code",
   "execution_count": null,
   "metadata": {},
   "outputs": [],
   "source": [
    "# Make sure to run this cell. This unzips the dataset into assignment_3 directory (or wherever you started this notebook from)\n",
    "!unzip caresses-interaction-logs-v1.0.zip"
   ]
  },
  {
   "cell_type": "code",
   "execution_count": null,
   "metadata": {},
   "outputs": [],
   "source": [
    "# Rename the directory just because it's long\n",
    "!mv laboratoriumDIBRIS-caresses-interaction-logs-a28ee8c data"
   ]
  },
  {
   "cell_type": "code",
   "execution_count": null,
   "metadata": {},
   "outputs": [],
   "source": [
    "# TODO get the directory structure of the folder called \"data\" using Python (do not use any bash). You only need to list the high level directory and do not need to walk tdown the paths\n"
   ]
  },
  {
   "cell_type": "markdown",
   "metadata": {},
   "source": [
    "expected output:\n",
    "    \n",
    "`['1_01',\n",
    " '1_11',\n",
    " '1_08',\n",
    " '1_12',\n",
    " '1_04',\n",
    " 'speechLog_sentences_ classification.docx',\n",
    " '1_09',\n",
    " '1_10',\n",
    " '1_02',\n",
    " '1_03',\n",
    " '1_13',\n",
    " '1_05',\n",
    " 'README.md',\n",
    " '1_07',\n",
    " '1_06']`"
   ]
  },
  {
   "cell_type": "code",
   "execution_count": null,
   "metadata": {},
   "outputs": [],
   "source": [
    "# TODO using python, open and print the contents of the 'README.md' file\n"
   ]
  },
  {
   "cell_type": "markdown",
   "metadata": {},
   "source": [
    "expected output:\n",
    "    \n",
    "``` # caresses-interaction-logs\n",
    "\n",
    "\n",
    "\n",
    "If you want to get the video recordings of the experiments related to the logs here stored, please write to info@caressesrobot.org\n",
    "\n",
    "\n",
    "\n",
    "The file **speechLog_sentences_classification.docx** includes a legenda on how to interpret the tags in square brackets of the fourth column of the file **speechLog.csv**, which classifies Pepper and user's sentences depending on their role in the conversation (i.e., whether they are interpreted by the system as Commands, Confirmations, Proposals, Questions, etc.).\n",
    "```"
   ]
  },
  {
   "cell_type": "code",
   "execution_count": null,
   "metadata": {},
   "outputs": [],
   "source": [
    "# TODO The tagging table in the .docx requires some work. Instead, there is a clean version in the directory. Load this file and print the first 3 records\n"
   ]
  },
  {
   "cell_type": "markdown",
   "metadata": {},
   "source": [
    "expected output:\n",
    "\n",
    "```\n",
    "    CONTEXT\tTYPE\tSUBTYPE\tTAG\n",
    "0\tAction\tMonolog\tOther\tAMOt\n",
    "1\tAction\tQuery\tConfirmation\tAQCo\n",
    "2\tAction\tQuery\tEvaluation\tAQEv\n",
    "\n",
    "```"
   ]
  },
  {
   "cell_type": "code",
   "execution_count": null,
   "metadata": {},
   "outputs": [],
   "source": [
    "# TODO get the number of rows / columns as a tuple for this file\n"
   ]
  },
  {
   "cell_type": "markdown",
   "metadata": {},
   "source": [
    "expected output:\n",
    "(32, 4)"
   ]
  },
  {
   "cell_type": "code",
   "execution_count": null,
   "metadata": {},
   "outputs": [],
   "source": [
    "# TODO What are the unique fieds in CONTEXT. Print these as a set\n"
   ]
  },
  {
   "cell_type": "markdown",
   "metadata": {},
   "source": [
    "expected output:\n",
    "{'Accept Request', 'AcceptReques', 'AcceptRequest', 'Action', 'ChitChat'}"
   ]
  },
  {
   "cell_type": "code",
   "execution_count": null,
   "metadata": {},
   "outputs": [],
   "source": [
    "# TODO 'AcceptRequest' has multiple and incorrect spellings. Consolidate these into 'AcceptRequest' and reprint these as a set"
   ]
  },
  {
   "cell_type": "markdown",
   "metadata": {},
   "source": [
    "expected output:\n",
    "{'AcceptRequest', 'Action', 'ChitChat'}"
   ]
  },
  {
   "cell_type": "code",
   "execution_count": null,
   "metadata": {},
   "outputs": [],
   "source": [
    "# TODO plot the context fields as a histogram using plotly. \n",
    "# Change the color AcceptRequest to light green\n",
    "# Change the color of Action to lightred\n",
    "# Change` the color of chitchat to lightsteelblue\n",
    "# Make the x axis label say \"Context Type\"\n",
    "# Make the y axis label say \"Counts\""
   ]
  },
  {
   "cell_type": "markdown",
   "metadata": {},
   "source": [
    "expected output:\n",
    "    See contexthistogram image"
   ]
  },
  {
   "cell_type": "code",
   "execution_count": null,
   "metadata": {},
   "outputs": [],
   "source": [
    "# TODO Print a table that shows Type and subtypes together to get the tag counts for the pair"
   ]
  },
  {
   "cell_type": "markdown",
   "metadata": {},
   "source": [
    "expected output:\n",
    "    \n",
    "    TYPE     SUBTYPE      \n",
    "Answer   Confirmation     3\n",
    "         Evaluation       1\n",
    "         Generic          1\n",
    "         Goal             1\n",
    "         Loop             1\n",
    "         Parameter        1\n",
    "         Question         1\n",
    "         Topic            1\n",
    "         Wait             1\n",
    "Command  Flow             3\n",
    "         Goal             1\n",
    "         Topic            1\n",
    "Monolog  NotUnderstood    1\n",
    "         Other            3\n",
    "         Positive         1\n",
    "Query    Confirmation     3\n",
    "         Evaluation       1\n",
    "         Generic          1\n",
    "         Loop             1\n",
    "         NotUnderstood    1\n",
    "         Parameter        1\n",
    "         Proposal         1\n",
    "         Question         1\n",
    "         Wait             1\n",
    "Name: TAG, dtype: int64"
   ]
  },
  {
   "cell_type": "code",
   "execution_count": null,
   "metadata": {},
   "outputs": [],
   "source": [
    "# TODO Make a plot of the Type and Subtype counts of tags with the plotting tool of your as long as it is not seaborn\n",
    "# Add a title that says \"Type and Subtype Frequencies\"\n",
    "# Add a y label that says \"Frequency\"\n",
    "# Add an x label that says \"Type / Subtype\"\n",
    "# Take away the grid lines\n",
    "# set the bar colors to steel blue\n",
    "# set the background color to '#D3D3D3'\n"
   ]
  },
  {
   "cell_type": "markdown",
   "metadata": {},
   "source": [
    "expected output:\n",
    "    See typesubtypefreq in image folder"
   ]
  },
  {
   "cell_type": "code",
   "execution_count": null,
   "metadata": {},
   "outputs": [],
   "source": [
    "# TODO open the file 1_01/speechLog.csv and print the first 10 lines"
   ]
  },
  {
   "cell_type": "markdown",
   "metadata": {},
   "source": [
    "expected output:\n",
    "    15/11/2019;14:25:40.030;- DEBUG:;-------------------------------------------------------------------------------------\n",
    "\n",
    "15/11/2019;14:26:12.367;- DEBUG:;-------------------------------------------------------------------------------------\n",
    "\n",
    "15/11/2019;14:26:13.230;- DEBUG:;-------------------------------------------------------------------------------------\n",
    "\n",
    "15/11/2019;14:26:13.984;- INFO:;[AQPa] PEPPER > Please tell me, should I move closer, move farther or stay here?\n",
    "\n",
    "15/11/2019;14:26:35.641;- INFO:;[    ] USER > is there something you\n",
    "\n",
    "15/11/2019;14:26:42.365;- INFO:;[AQNo] PEPPER > Sorry, I didn't get what you said. Please select an option on my tablet.\n",
    "\n",
    "15/11/2019;14:26:54.644;- INFO:;[    ] USER > [u'stay here', 0.5526999831199646]\n",
    "\n",
    "15/11/2019;14:26:54.653;- INFO:;[AMOt] PEPPER > Alright, I will stay here.\n",
    "\n",
    "15/11/2019;14:26:58.042;- DEBUG:;-------------------------------------------------------------------------------------\n",
    "\n",
    "15/11/2019;14:26:58.365;- INFO:;[AMOt] PEPPER > Hello MisterUser."
   ]
  },
  {
   "cell_type": "code",
   "execution_count": null,
   "metadata": {},
   "outputs": [],
   "source": [
    "# TODO write some code here that takes each line of 1_01/speechLog.csv and creates a dataframe\n",
    "# containing:\n",
    "# - [ ] A column called \"date\" that stores JUST the date in YYYY-mm-dd format\n",
    "# - [ ] A column called \"time\" that contains the time in 24hr format hh:mm:ss.milisec (i.e. same format as in the log file)\n",
    "# - [ ] A column called \"msg_type\" That contains a cleaned version of INFO / DEBUG (i.e. clean formatting and no additional characters / artifax)\n",
    "# - [ ] A column called \"tag\" that contains the Caresses tag info without brackets. If the tag only has spaces keep them in the column\n",
    "# - [ ] A column called \"speaker\" that contains who is performing the action\n",
    "# - [ ] A column called \"convo\" that contains a the test with the trailing newline (\\n) removed."
   ]
  },
  {
   "cell_type": "markdown",
   "metadata": {},
   "source": [
    "expected number of entries:\n",
    "    250"
   ]
  },
  {
   "cell_type": "code",
   "execution_count": null,
   "metadata": {},
   "outputs": [],
   "source": [
    "# TODO check the top 5 results"
   ]
  },
  {
   "cell_type": "markdown",
   "metadata": {},
   "source": [
    "expected results:\n",
    "\n",
    "```\n",
    "    \tdate\ttime\tmsg_type\ttag\tspeaker\tconvo\n",
    "0\t2019-11-15\t14:25:40.030\tDEBUG\tNone\tNone\tNone\n",
    "1\t2019-11-15\t14:26:12.367\tDEBUG\tNone\tNone\tNone\n",
    "2\t2019-11-15\t14:26:13.230\tDEBUG\tNone\tNone\tNone\n",
    "3\t2019-11-15\t14:26:13.984\tINFO\tAQPa\tPEPPER\tPlease tell me, should I move closer, move far...\n",
    "4\t2019-11-15\t14:26:35.641\tINFO\t\tUSER\tis there something you\n",
    "```\n"
   ]
  },
  {
   "cell_type": "code",
   "execution_count": null,
   "metadata": {},
   "outputs": [],
   "source": [
    "# TODO Get the first and last time for the conversation. Also get the duration, of the conversation\n",
    "# NOTE if your duration is not in the exact some format that is acceptable as long as the value is correct"
   ]
  },
  {
   "cell_type": "markdown",
   "metadata": {},
   "source": [
    "expected results:\n",
    "    0 days 00:31:17.345000\n",
    "('14:25:40.030', '14:56:57.375', None)"
   ]
  },
  {
   "cell_type": "code",
   "execution_count": null,
   "metadata": {},
   "outputs": [],
   "source": [
    "# TODO Plot the cumulative number of messages over time using Seaborn and Matplotlib \n",
    "# Modify the graph as follows:\n",
    "# - [ ] Change the background color of the graph to dark\n",
    "# - [ ] Set the title of the graph to 'Log entries over time'\n",
    "# - [ ] Set x Axis label to \"Log entry time\"\n",
    "# - [ ] Set y Axis label to \"Cumulative log entries\"\n",
    "# - [ ] Rotate the x-ticks 45 degrees"
   ]
  },
  {
   "cell_type": "markdown",
   "metadata": {},
   "source": [
    "expected results:\n",
    "see logtimeseries in images"
   ]
  },
  {
   "cell_type": "code",
   "execution_count": null,
   "metadata": {},
   "outputs": [],
   "source": [
    "# TODO Make a plotly donut plot showing the number contribution for each tag from the dataframe\n",
    "# Modify the graph as follows:\n",
    "# - [ ] Make the hole in the donut 55 percent of chart"
   ]
  },
  {
   "cell_type": "markdown",
   "metadata": {},
   "source": [
    "expected results:\n",
    "    contributiondonut in images"
   ]
  },
  {
   "cell_type": "code",
   "execution_count": null,
   "metadata": {},
   "outputs": [],
   "source": [
    "# TODO Create a corpus by joining all of the cells from the column convo of the dataframe\n",
    "# link all of these togetehr by a space (' ')\n",
    "# Note you do NOT need to worry about question evaluations e.g. ([u\\'blue\\', 0.5060999989509583]). Just leave it as is\n",
    "# store this in a variable named convo_corpus\n",
    "# IMPORTANT You may need to install additional packages, please make sure you do this. \n",
    "import nltk"
   ]
  },
  {
   "cell_type": "markdown",
   "metadata": {},
   "source": [
    "expected results:\n",
    "    \n",
    "    ```\n",
    "    'none none none please tell me, should i move closer, move farther or stay here? is there something you sorry, i didn\\'t get what you said. please select an option on my tablet. [u\\'stay here\\', 0.5526999831199646] alright, i will stay here. none hello misteruser. none none it is great to see you again and i am looking forward to spending time with you today. i am especially keen to learn more about you as an individual, including the things you like and value, and also the things that you perhaps don\\'t like so much! none it\\'s important to me to know how i should call you. i want to address you properly please tell me, i\\'d like to know more.  i am aware that older english people prefer to be called by their last name. should i call you mister user? mystery music i am aware that some older people love to listen to songs from old movies, or those sung by vera lynn during the second world war. do you ever listen to music? yes i do i know that younger people usually listen to different types of popular music, such as pop, rock, soul, rap. i know that you listen to music , sometimes. please tell me more, i want to learn more.  i like electronic what about you i understand what you said, it\\'s good to know! do you want to do some karaoke now? just do you want me to play some music for you now? yes great, i am happy to be helpful! none i can play relaxing music, my generation and many other songs or kinds of music. please tell me the title of the song, the artist or the genre you would like to listen to. play i understood that you asked: \\'play\\'. is that right? yes play despacito alright, i\\'ll search for it. please wait a few seconds while i load the music video on the tablet. it might take a while so please be patient. do you want to listen to another song? do you want to listen to another song? [u\\'no\\', 0.6402000188827515] fine. can you please tell me if you enjoyed listening to some music? yes thanks for telling me. none i am so happy to be here with you none i like talking about the places that are important to you i have learned a little about that.  english people tell me that they normally sleep in their bedroom. can we talk about the place where you sleep? yes i am aware that some older english people living at home on their own may sometimes spend the night in an armchair in the living room. especially in the winter, as the living room is usually the warmest room in the house. please, tell me more about the place where you sleep , if you like  my bedroom what about you thank you for sharing this with me we are in your bedroom now. it\\'s welcoming and comfortable. please, tell me if your bedroom has everything you need, or if you would like to add some furniture or decoration  adding me a couch can we play memory game over and out do you want to play a memory game with me? [u\\'yes\\', 0.6431000232696533] ok, let\\'s do that! none let\\'s play a memory game! i can help you play a memory game with pictures about british festivals, the british royal family and many other topics. please tell me which topic you choose. british royal family do you want to play with pictures of the british royal family? yes alright, let\\'s play with pictures of the british royal family. first i will show you a picture for a few seconds, then i will ask you a few questions. let\\'s start! are you ready? yes which colour is the dress of the queen elizabeth? [u\\'red\\', 0.63919997215271] i\\'m sorry, the answer is wrong. let\\'s try again! which colour is the dress of the queen elizabeth? [u\\'white\\', 0.5483999848365784] i\\'m sorry, the answer is wrong. let\\'s try again! which colour is the dress of the queen elizabeth? [u\\'blue\\', 0.5060999989509583] i\\'m sorry, the answer is wrong. let\\'s try again! which colour is the dress of the queen elizabeth? [u\\'green\\', 0.6753000020980835] that\\'s correct! well done! what is the child in the middle of the picture doing? [u\\'laughing\\', 0.6075000166893005] i\\'m sorry, the answer is wrong. let\\'s try again! what is the child in the middle of the picture doing? [u\\'greeting\\', 0.6435999870300293] that\\'s correct! well done! do you want to play again? do you want to play again? [u\\'yes\\', 0.6940000057220459] i can help you play a memory game with pictures about british festivals, the british royal family and many other topics. please tell me which topic you choose. british festivals alright, let\\'s play with pictures of british festivals. first i will show you a picture for a few seconds, then i will ask you a few questions. let\\'s start! are you ready? are you ready? [u\\'yes\\', 1] which festival is celebrated in this photo? [u\\'christmas\\', 0.6955000162124634] that\\'s correct! well done! what colour is the ribbon on the tree on the right hand side? [u\\'red\\', 0.70169997215271] i\\'m sorry, the answer is wrong. let\\'s try again! what colour is the ribbon on the tree on the right hand side? [u\\'silver\\', 0.6622999906539917] i\\'m sorry, the answer is wrong. let\\'s try again! what colour is the ribbon on the tree on the right hand side? [u\\'yellow\\', 0.5300999879837036] i\\'m sorry, the answer is wrong. let\\'s try again! what colour is the ribbon on the tree on the right hand side? [u\\'blue\\', 0.5310999751091003] that\\'s correct! well done! do you want to play again? do you want to play again? [u\\'no\\', 1] fine. it was fun to play with you! tell me, did you enjoy playing this game? tell me, did you enjoy playing this game? [u\\'yes\\', 1] thanks for telling me. none it\\'s very nice to be here with you none it\\'s interesting to know more about your life! i find that really interesting.  i am aware that many english people are proud of their heritage. are you proud of your heritage? yes people tell me that many english people like to talk about their history, such as the british empire, their brave kings and great queens, their great literature and technology. tell me something about your heritage. i am very interested  where are you can you give options off chance can we talk about can we talk about food what about you interesting may i ask you a question? can i ask you something about your food preferences ? yes great. talking about what we eat is entertaining and also very important please, tell me more about your  food preferences, i am very interested in learning about what you like to eat  i like meat based turn off cast what do you like what do you over and out oh, interesting! please tell me, i\\'d like to know more. do you like typical english food ? no you are very patient. i hope you enjoy our conversation i have learned a little about that. do you have any dietary preferences because of your religion? no i will remember that please tell me what i can do for you for example i can  make an audio or video call to someone you know  can you read the news are you sure that you want to read the news? [u\\'yes\\', 0.5623000264167786] i am happy to be helpful! none i can read you the news from sky news, bbc news and many other channels. please tell me the news channel you would like me to read from. bbc news do you want me to read the news from bbc news? yes alright, i\\'ll get the news from bbc news. i found this article: boris johnson quizzed on russia, flooding and his children. do you want to read this article? yes do you want me to read the article aloud for you? yes boris johnson has been quizzed on russia, flooding and his children by members of the public during a bbc radio 5 live phone-in. during the programme, the pm said there was \"\"no evidence\"\" of russian interference in uk politics, amid calls for the government to release a report on the subject before the election.\" he also said there were \"\"big plans\"\" for investing in flood defences.\" and he said claims none of his children went to state school were \"\"wrong\"\".\" he also denied reports that brexit party leader nigel farage had been offered a peerage in return for standing down his parliamentary candidates in conservative-won seats. shall i keep reading? no alright. do you want me to read another article? [[option]] do you want me to read another article? [u\\'no\\', 0.6147000193595886] ok, fine. please tell me, did you enjoy reading the news of the day? yes thanks for telling me. none it\\'s very nice to be here with you none i know that english people prefer to make their own decisions when it comes to food, drinks, movies, books and music if you don\\'t mind, i will ask you a question.  people tell me that many english people like reading books. do you like books? yes i am aware the crime novels by agatha christie are very popular. please, tell me what kind of books you usually read, whether fiction or non fiction, novels, or history books  fiction books what about you i like to listen to you i have learned a little about that.  people tell me that many english people like reading books. i am aware that crime novels by agatha christie are very popular. do you ever read books? yes reading a book is a nice way to be active, and to maintain an alert mind in a healthy body please, tell me what you like about reading a book  i like that create what about you interesting do you want me to set a reminder for reading a book ? yes great, let\\'s do that! none very well, i will remind you to read a book. i also need to know when i should remind you about this. the reminder will only work if you set it for a date and time during our planned time together. can you please tell me when? today at at what time? add 3 p.m. i understood that you said today at 3 p.m.. is that correct? yes alright, today at 3 p.m.. none i am so happy to be here with you none i can help you in many ways. i can tell you the news and the weather, i can keep you company, i can call your family when you ask me to.  i can do many things for you, but i cannot perform heavy tasks. you can follow my suggestions, or just try to ask me for something. please be patient if i do not always understand you. do you want to talk about the things that i can do, sometimes? yes maybe you can be interested to set some of my parameters now, or in letting me do something for you i only know a little about this. do you want me to send a message for you sometimes? no you are very patient. i hope you enjoy our conversation i only know a little about this. do you want me to help to choose your breakfast, lunch or dinner sometimes? can you take photos do you want me to take and send photos of you? [u\\'yes\\', 0.6704999804496765] ok, let\\'s do that! none when you are ready for the picture, press the button on my tablet and look at me. i will count to 3 before shooting. [u\\'shoot\\', 1] good! now, please don\\'t move.\\\\pau=1000\\\\1, \\\\pau=1000\\\\2, \\\\pau=1000\\\\3. done! i will display it on the tablet! take your time and look at the picture as long as you like. then please tell me if you want to keep the picture or delete it. i want to keep it do you want to send the picture to someone? yes i can send the picture to your doctor carmine, your friend roberto and to many other people in your contact list. please tell me who you want to send the the picture to. send the picture to carmen sorry, this person is not in your contact list. please select an option on my tablet. [u\\'doctor carmine\\', 1] do you want me to send the picture to your doctor carmine ? yes great, i\\'ll send the picture to your doctor carmine . i\\'ve just sent the picture to your doctor carmine. do you want to take another picture? no alright. can you tell if you enjoyed taking this picture? yes thanks for telling me. none i am so happy to be here with you none i like talking about people that are important to you please tell me, i\\'d like to know more.  people tell me that many english people like to go to the pub and have a drink with their friends. would you tell me something about your friends ? none sorry, i am not sure i understood, i will repeat my question. please tell me, i\\'d like to know more.  people tell me that many english people like to go to the pub and have a drink with their friends. would you tell me something about your friends ?'\n",
    "    ```"
   ]
  },
  {
   "cell_type": "code",
   "execution_count": null,
   "metadata": {},
   "outputs": [],
   "source": [
    "# TODO remove the puncuation from the corpus and lowercase\n",
    "from nltk.tokenize import RegexpTokenizer"
   ]
  },
  {
   "cell_type": "markdown",
   "metadata": {},
   "source": [
    "expected output: \n",
    "similar to above but without puncuation and lowercased"
   ]
  },
  {
   "cell_type": "code",
   "execution_count": null,
   "metadata": {},
   "outputs": [],
   "source": [
    "# TODO the word none is there to represent rows that had no dialog. remove it from the corpus\n"
   ]
  },
  {
   "cell_type": "markdown",
   "metadata": {},
   "source": [
    "expected results: \n",
    "    same corpus but with the word \"none\" removed"
   ]
  },
  {
   "cell_type": "code",
   "execution_count": null,
   "metadata": {},
   "outputs": [],
   "source": [
    "# TODO pip install wordcloud"
   ]
  },
  {
   "cell_type": "code",
   "execution_count": null,
   "metadata": {},
   "outputs": [],
   "source": [
    "# TODO build a word cloud that plots the top 500 words\n",
    "# Set background color to grey\n",
    "# set contour color to lightblue"
   ]
  },
  {
   "cell_type": "markdown",
   "metadata": {},
   "source": [
    "expected output:\n",
    "    Similar looking wordcloud"
   ]
  },
  {
   "cell_type": "code",
   "execution_count": null,
   "metadata": {},
   "outputs": [],
   "source": [
    "# TODO using the nltk library remove all english stop words from the corpus \n",
    "# and reprint the corpus with the stop words removed. Save the output in revised_corpus\n",
    "# IMPORTANT: You'll need to download punkt and stopwords\n",
    "from nltk.corpus import stopwords  \n",
    "from nltk.tokenize import word_tokenize  \n",
    "nltk.download('stopwords')\n",
    "nltk.download('punkt')"
   ]
  },
  {
   "cell_type": "markdown",
   "metadata": {},
   "source": [
    "expected (truncated) output:\n",
    "    \n",
    "```\n",
    " ['please',\n",
    " 'tell',\n",
    " 'move',\n",
    " 'closer',\n",
    " 'move',\n",
    " 'farther',\n",
    " 'stay',\n",
    " 'something',\n",
    " 'sorry',\n",
    " 'get',\n",
    " 'said',\n",
    " 'please',\n",
    " ...\n",
    " ```"
   ]
  },
  {
   "cell_type": "code",
   "execution_count": null,
   "metadata": {},
   "outputs": [],
   "source": [
    "# TODO You'll need to use gensim to create a dictionary and corpus for term document frequency. \n",
    "# do not change the variable names, you will need these later\n",
    "import gensim.corpora as corpora\n",
    "# Create Dictionary\n",
    "id2word = \n",
    "# Create Corpus\n",
    "texts = \n",
    "# Term Document Frequency (corpus)\n",
    "corpus = \n",
    "# View\n",
    "print(corpus[:1][0][:30])"
   ]
  },
  {
   "cell_type": "markdown",
   "metadata": {},
   "source": [
    "expected similar output:\n",
    "    ```[(0, 18), (1, 6), (2, 3), (3, 1), (4, 5), (5, 1), (6, 1), (7, 1), (8, 1), (9, 1), (10, 1), (11, 1), (12, 1), (13, 1), (14, 1), (15, 1), (16, 1), (17, 1), (18, 1), (19, 1), (20, 1), (21, 1), (22, 1), (23, 1), (24, 1), (25, 2), (26, 1), (27, 1), (28, 2), (29, 1)]```"
   ]
  },
  {
   "cell_type": "code",
   "execution_count": null,
   "metadata": {},
   "outputs": [],
   "source": [
    "# NOTE that in this snippett we are going to be generating an LDA model from the coprus we defined above\n",
    "# The number of topics can be modified and you can see \n",
    "# number of topics\n",
    "num_topics = 10\n",
    "# Build LDA model\n",
    "lda_model = gensim.models.LdaMulticore(corpus=corpus,\n",
    "                                       id2word=id2word,\n",
    "                                       num_topics=num_topics)\n",
    "# Print the Keyword in the 10 topics\n",
    "pprint(lda_model.print_topics())\n",
    "doc_lda = lda_model[corpus]"
   ]
  },
  {
   "cell_type": "code",
   "execution_count": null,
   "metadata": {},
   "outputs": [],
   "source": [
    "# TODO pip install pyLDAvis. This tool allows you to visualize LDA"
   ]
  },
  {
   "cell_type": "code",
   "execution_count": null,
   "metadata": {},
   "outputs": [],
   "source": [
    "import pyLDAvis.gensim\n",
    "import pickle \n",
    "import pyLDAv\n",
    "# Visualize the topics\n",
    "pyLDAvis.enable_notebook()\n",
    "LDAvis_data_filepath = os.path.join('ldavis_prepared_'+str(num_topics))\n",
    "# # this is a bit time consuming - make the if statement True\n",
    "# # if you want to execute visualization prep yourself\n",
    "if 1 == 1:\n",
    "    LDAvis_prepared = pyLDAvis.gensim.prepare(lda_model, corpus, id2word)\n",
    "    with open(LDAvis_data_filepath, 'wb') as f:\n",
    "        pickle.dump(LDAvis_prepared, f)\n",
    "# load the pre-prepared pyLDAvis data from disk\n",
    "with open(LDAvis_data_filepath, 'rb') as f:\n",
    "    LDAvis_prepared = pickle.load(f)\n",
    "pyLDAvis.save_html(LDAvis_prepared, 'ldavis_prepared_'+ str(num_topics) +'.html')\n",
    "LDAvis_prepared"
   ]
  },
  {
   "cell_type": "markdown",
   "metadata": {},
   "source": [
    "# Scratch\n",
    "Any testing should be done below this cell. "
   ]
  },
  {
   "cell_type": "code",
   "execution_count": null,
   "metadata": {},
   "outputs": [],
   "source": []
  }
 ],
 "metadata": {
  "kernelspec": {
   "display_name": "Python 3",
   "language": "python",
   "name": "python3"
  },
  "language_info": {
   "codemirror_mode": {
    "name": "ipython",
    "version": 3
   },
   "file_extension": ".py",
   "mimetype": "text/x-python",
   "name": "python",
   "nbconvert_exporter": "python",
   "pygments_lexer": "ipython3",
   "version": "3.9.1"
  }
 },
 "nbformat": 4,
 "nbformat_minor": 2
}
